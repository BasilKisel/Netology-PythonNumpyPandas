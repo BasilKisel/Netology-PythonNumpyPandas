{
  "nbformat": 4,
  "nbformat_minor": 0,
  "metadata": {
    "colab": {
      "name": "netology_numpy_homework01.ipynb",
      "provenance": []
    },
    "kernelspec": {
      "name": "python3",
      "display_name": "Python 3"
    },
    "language_info": {
      "name": "python"
    }
  },
  "cells": [
    {
      "cell_type": "code",
      "metadata": {
        "id": "GwTzVQ2Sdpj5"
      },
      "source": [
        "import numpy as np"
      ],
      "execution_count": null,
      "outputs": []
    },
    {
      "cell_type": "markdown",
      "metadata": {
        "id": "8CounqZzdJ52"
      },
      "source": [
        "**Задание 1**\n",
        "\n",
        "Создайте numpy array с элементами от числа N до 0 (например, для N = 10 это \n",
        "будет array([9, 8, 7, 6, 5, 4, 3, 2, 1, 0]))."
      ]
    },
    {
      "cell_type": "code",
      "metadata": {
        "colab": {
          "base_uri": "https://localhost:8080/"
        },
        "id": "OvMYpQCZdYUp",
        "outputId": "28780cdc-fa50-45e2-a1f9-6ba94c66d911"
      },
      "source": [
        "n_count = 10\n",
        "np.arange(n_count, -1, -1)"
      ],
      "execution_count": null,
      "outputs": [
        {
          "output_type": "execute_result",
          "data": {
            "text/plain": [
              "array([10,  9,  8,  7,  6,  5,  4,  3,  2,  1,  0])"
            ]
          },
          "metadata": {},
          "execution_count": 8
        }
      ]
    },
    {
      "cell_type": "markdown",
      "metadata": {
        "id": "10PO7Xx7dY5_"
      },
      "source": [
        "**Задание 2**\n",
        "\n",
        "Создайте диагональную матрицу с элементами от N до 0. Посчитайте сумму ее значений на диагонали."
      ]
    },
    {
      "cell_type": "code",
      "metadata": {
        "colab": {
          "base_uri": "https://localhost:8080/"
        },
        "id": "3YuqLk8PdapA",
        "outputId": "4349fefb-3f48-4845-9356-4f089c2c5d8d"
      },
      "source": [
        "n_count = 10\n",
        "np.diag(np.arange(n_count, -1, -1), 0).trace(0)"
      ],
      "execution_count": null,
      "outputs": [
        {
          "output_type": "execute_result",
          "data": {
            "text/plain": [
              "55"
            ]
          },
          "metadata": {},
          "execution_count": 14
        }
      ]
    },
    {
      "cell_type": "markdown",
      "metadata": {
        "id": "ZO5bwAutdbUy"
      },
      "source": [
        "**Задание 3**\n",
        "\n",
        "Решите систему уравнений:\n",
        "\n",
        "4x + 2y + z = 4\n",
        "\n",
        "x + 3y = 12\n",
        "\n",
        "5y + 4z = -3"
      ]
    },
    {
      "cell_type": "code",
      "metadata": {
        "colab": {
          "base_uri": "https://localhost:8080/"
        },
        "id": "-Vc6OT1CddDq",
        "outputId": "e254c6f6-23ed-4fb6-bdb1-a50f7bb9bc27"
      },
      "source": [
        "a_part = np.array([[4, 2, 1],\n",
        "                   [1, 3, 0],\n",
        "                   [0, 5, 4]])\n",
        "b_part = np.array([4, 12, -3])\n",
        "\n",
        "root_part = np.linalg.solve(a_part, b_part)\n",
        "\n",
        "if not np.allclose(np.dot(a_part, root_part), b_part):\n",
        "    print(f'{root_part} is not a correct solution.')\n",
        "else:\n",
        "    print(f'{root_part} is a correct solution.')"
      ],
      "execution_count": null,
      "outputs": [
        {
          "output_type": "stream",
          "name": "stdout",
          "text": [
            "[ 0.46666667  3.84444444 -5.55555556] is a correct solution.\n"
          ]
        }
      ]
    },
    {
      "cell_type": "markdown",
      "metadata": {
        "id": "RF-sA7MPddcy"
      },
      "source": [
        "**Задание 4**\n",
        "\n",
        "Имеется матрица покупок в интернет-магазине. Столбец А - ID пользователя. Остальные столбцы - количество покупок категорий товаров этим пользователем:"
      ]
    },
    {
      "cell_type": "code",
      "metadata": {
        "id": "6MAti454knX0"
      },
      "source": [
        "users_stats = np.array(\n",
        "    [\n",
        "        [2, 1, 0, 0, 0, 0],\n",
        "        [1, 1, 2, 1, 0, 0],\n",
        "        [2, 0, 1, 0, 0, 0],\n",
        "        [1, 1, 2, 1, 0, 1],\n",
        "        [0, 0, 1, 2, 0, 0],\n",
        "        [0, 0, 0, 0, 0, 5],\n",
        "        [1, 0, 0, 0, 0, 0],\n",
        "        [0, 1, 1, 0, 0, 0],\n",
        "        [0, 0, 0, 1, 1, 3],\n",
        "        [1, 0, 0, 2, 1, 4]\n",
        "    ], \n",
        "    np.int32\n",
        ")"
      ],
      "execution_count": null,
      "outputs": []
    },
    {
      "cell_type": "markdown",
      "metadata": {
        "id": "766sZz38kqKV"
      },
      "source": [
        "На сайт заходит очередной посетитель, о покупках которого известно следующее:"
      ]
    },
    {
      "cell_type": "code",
      "metadata": {
        "id": "Kpp9dkhRksT0"
      },
      "source": [
        "next_user_stats = np.array([0, 1, 2, 0, 0, 0])"
      ],
      "execution_count": null,
      "outputs": []
    },
    {
      "cell_type": "markdown",
      "metadata": {
        "id": "sL-KGdZEkuPL"
      },
      "source": [
        "Найдите самого похожего пользователя. Т. е. посчитайте косинусное сходство между этим пользователем и всеми пользователями из массива user_stats"
      ]
    },
    {
      "cell_type": "code",
      "metadata": {
        "colab": {
          "base_uri": "https://localhost:8080/"
        },
        "id": "e1_vAsImkwU5",
        "outputId": "21d02a5a-7e06-4318-fcca-b4292b8cee18"
      },
      "source": [
        "def cosine( a, b ):\n",
        "    \"\"\"\n",
        "    Подсчет косинуса угла между векторами a, b по их координатам\n",
        "    \"\"\"\n",
        "    # длины векторов\n",
        "    aLength = np.linalg.norm( a )\n",
        "    bLength = np.linalg.norm( b )\n",
        "    return np.dot( a, b ) / ( aLength * bLength )\n",
        "\n",
        "def create_distance_func(target):\n",
        "    \"\"\"\n",
        "    Возвращает функцию, вычисляющую расстояние до заданного пользователя.\n",
        "    \"\"\"\n",
        "    def get_dst(arg):\n",
        "        return cosine(arg, target)\n",
        "    return get_dst\n",
        "\n",
        "dist_func = create_distance_func(next_user_stats)\n",
        "\n",
        "# https://numpy.org/doc/1.21/reference/generated/numpy.apply_along_axis.html#\n",
        "dist_array = np.apply_along_axis(dst_func, 1, users_stats)\n",
        "print(f'distances are\\n{dist_array}')\n",
        "\n",
        "the_closest_user = users_stats[np.argmax(dist_array)]\n",
        "print(f'the closest user is {the_closest_user}')"
      ],
      "execution_count": null,
      "outputs": [
        {
          "output_type": "stream",
          "name": "stdout",
          "text": [
            "distances are\n",
            "[0.2        0.84515425 0.4        0.79056942 0.4        0.\n",
            " 0.         0.9486833  0.         0.        ]\n",
            "the closest user is [0 1 1 0 0 0]\n"
          ]
        }
      ]
    }
  ]
}