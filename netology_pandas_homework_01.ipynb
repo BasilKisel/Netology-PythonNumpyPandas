{
  "nbformat": 4,
  "nbformat_minor": 0,
  "metadata": {
    "colab": {
      "name": "netology_pandas_homework_01.ipynb",
      "provenance": [],
      "collapsed_sections": []
    },
    "kernelspec": {
      "name": "python3",
      "display_name": "Python 3"
    },
    "language_info": {
      "name": "python"
    }
  },
  "cells": [
    {
      "cell_type": "code",
      "metadata": {
        "id": "EWP_ByDIBw2h"
      },
      "source": [
        "import requests\n",
        "import zipfile\n",
        "import pandas as pd"
      ],
      "execution_count": null,
      "outputs": []
    },
    {
      "cell_type": "markdown",
      "metadata": {
        "id": "oV_OPVHpQ2K3"
      },
      "source": [
        "**Задание 1**\n",
        "\n",
        "Скачайте с сайта grouplens.org...movielens/ датасет любого размера. Определите какому фильму было выставлено больше всего оценок 5.0."
      ]
    },
    {
      "cell_type": "code",
      "metadata": {
        "id": "gA9bUQcfBmIH"
      },
      "source": [
        " # download dataset.zip\n",
        "ml_latest_small_url = 'https://files.grouplens.org/datasets/movielens/ml-latest-small.zip'\n",
        "dataset_zip_path = '/tmp/ml-latest-small.zip'\n",
        "resp = requests.get(ml_latest_small_url)\n",
        "with open(file=dataset_zip_path, mode='wb') as dataset_file:\n",
        "    dataset_file.write(resp.content)\n",
        "    dataset_file.flush()"
      ],
      "execution_count": null,
      "outputs": []
    },
    {
      "cell_type": "code",
      "metadata": {
        "colab": {
          "base_uri": "https://localhost:8080/"
        },
        "id": "j6rDz-Z6FPIB",
        "outputId": "40d88f4a-e4da-4349-b572-5f0bbb2a231e"
      },
      "source": [
        "# load CSV to dataframes\n",
        "with zipfile.ZipFile(file=dataset_zip_path, compression=zipfile.ZIP_DEFLATED) as zip:\n",
        "\n",
        "    ratings_zip_path = max(zip.namelist(), key=lambda rat_name: 'ratings.csv' in rat_name)\n",
        "    print(ratings_zip_path)\n",
        "    with zip.open(ratings_zip_path, 'r') as ratings_csv:\n",
        "        ratings_df = pd.read_csv(filepath_or_buffer=ratings_csv, header=0)\n",
        "\n",
        "    movies_zip_path = max(zip.namelist(), key=lambda mov_name: 'movies.csv' in mov_name)\n",
        "    print(movies_zip_path)\n",
        "    with zip.open(movies_zip_path, 'r') as movies_csv:\n",
        "        movies_df = pd.read_csv(filepath_or_buffer=movies_csv, header=0, index_col='movieId')"
      ],
      "execution_count": null,
      "outputs": [
        {
          "output_type": "stream",
          "name": "stdout",
          "text": [
            "ml-latest-small/ratings.csv\n",
            "ml-latest-small/movies.csv\n"
          ]
        }
      ]
    },
    {
      "cell_type": "code",
      "metadata": {
        "colab": {
          "base_uri": "https://localhost:8080/"
        },
        "id": "FXboZIc8MhvU",
        "outputId": "a291d82c-6b1f-4f28-9f52-8ccf09670620"
      },
      "source": [
        "the_top_movies = ratings_df[ratings_df['rating'] == 5.0]['movieId'].mode().squeeze()\n",
        "movies_df.iloc[the_top_movies] # I don't"
      ],
      "execution_count": null,
      "outputs": [
        {
          "output_type": "execute_result",
          "data": {
            "text/plain": [
              "title     I Love Trouble (1994)\n",
              "genres            Action|Comedy\n",
              "Name: 360, dtype: object"
            ]
          },
          "metadata": {},
          "execution_count": 164
        }
      ]
    },
    {
      "cell_type": "markdown",
      "metadata": {
        "id": "PARbEDrIBmnH"
      },
      "source": [
        "**Задание 2**\n",
        "\n",
        "По данным файла power.csv посчитайте суммарное потребление стран Прибалтики (Латвия, Литва и Эстония) категорий 4, 12 и 21 за период с 2005 по 2010 года. Не учитывайте в расчетах отрицательные значения quantity."
      ]
    },
    {
      "cell_type": "code",
      "metadata": {
        "id": "xfyHEemaBnCN"
      },
      "source": [
        "# download a ZIP file with the dataset\n",
        "power_csv_url = 'https://u.netology.ngcdn.ru/backend/uploads/lms/attachments/files/data/15255/10._%D0%9E%D1%81%D0%BD%D0%BE%D0%B2%D1%8B_pandas.zip'\n",
        "resp = requests.get(power_csv_url)\n",
        "homework_zip_path = '/tmp/pandas_10_homework.zip'\n",
        "with open(homework_zip_path, 'wb') as homework_file:\n",
        "    homework_file.write(resp.content)\n",
        "    homework_file.flush()"
      ],
      "execution_count": null,
      "outputs": []
    },
    {
      "cell_type": "code",
      "metadata": {
        "colab": {
          "base_uri": "https://localhost:8080/"
        },
        "id": "pAx8OK9nhxSM",
        "outputId": "7a6594e8-b5d5-4d29-8adc-1abde048e805"
      },
      "source": [
        "# load csv into DataFrame\n",
        "with zipfile.ZipFile(homework_zip_path, 'r', zipfile.ZIP_DEFLATED) as homework_zip:\n",
        "    homework_zip.printdir()\n",
        "\n",
        "    power_path = max(homework_zip.namelist(), key=lambda entry_name: 'power.csv' in entry_name)\n",
        "    with homework_zip.open(power_path, 'r') as power_csv:\n",
        "        power_df = pd.read_csv(power_csv, header=0)"
      ],
      "execution_count": null,
      "outputs": [
        {
          "output_type": "stream",
          "name": "stdout",
          "text": [
            "File Name                                             Modified             Size\n",
            "power.csv                                      2018-06-06 18:02:48     29050479\n",
            "transactions.csv                               2018-06-06 17:28:54         1989\n"
          ]
        }
      ]
    },
    {
      "cell_type": "code",
      "metadata": {
        "colab": {
          "base_uri": "https://localhost:8080/"
        },
        "id": "kNUuzC9hjCVR",
        "outputId": "6ef74c00-019f-4a21-9340-94eda53d5cf1"
      },
      "source": [
        "filter_func = lambda row: (row['country'] in ('Latvia', 'Lithuania', 'Estonia') and\n",
        "                           row['category'] in (4, 12, 21) and\n",
        "                           row['quantity'] > 0.0)\n",
        "power_df[power_df.apply(func=filter_func, axis=1)]['quantity'].sum()"
      ],
      "execution_count": null,
      "outputs": [
        {
          "output_type": "execute_result",
          "data": {
            "text/plain": [
              "970728.0"
            ]
          },
          "metadata": {},
          "execution_count": 127
        }
      ]
    },
    {
      "cell_type": "markdown",
      "metadata": {
        "id": "0HqZUfKXBngt"
      },
      "source": [
        "**Задание 3**\n",
        "\n",
        "Выберите страницу любого сайта с табличными данными. Импортируйте таблицы в pandas dataframe.\n",
        "\n",
        "Примеры страниц (необязательно брать именно эти):\n",
        "\n",
        "https://fortrader.org/quotes\n",
        "\n",
        "www.finanz.ru...om-vremeni"
      ]
    },
    {
      "cell_type": "code",
      "metadata": {
        "id": "lSuH5ix_BSOr"
      },
      "source": [
        "import re"
      ],
      "execution_count": null,
      "outputs": []
    },
    {
      "cell_type": "code",
      "metadata": {
        "id": "fOic5mALBoSK"
      },
      "source": [
        "# constants\n",
        "bonds_9pct_active_url = 'https://old.rusbonds.ru/srch_simple.asp?go=1&status=T&bstav=8&estav=13&ex=0&s=1&d=1&p=' # append a page number\n",
        "data_magic_no = 18\n",
        "pages_magic_no = 19"
      ],
      "execution_count": null,
      "outputs": []
    },
    {
      "cell_type": "code",
      "metadata": {
        "colab": {
          "base_uri": "https://localhost:8080/"
        },
        "id": "3pnfs7_uBXaq",
        "outputId": "a884c676-8220-4171-a825-1a3ca47a3f51"
      },
      "source": [
        "# get page count\n",
        "tmp_bonds_df_lst = pd.read_html(bonds_9pct_active_url+'1')\n",
        "page_cnt = max(map(int, re.findall('(\\d+)', tmp_bonds_df_lst[pages_magic_no].at[0, 1])))\n",
        "print(f'page count is {page_cnt}')\n",
        "tmp_bonds_df_lst = None # free mem"
      ],
      "execution_count": null,
      "outputs": [
        {
          "output_type": "stream",
          "name": "stdout",
          "text": [
            "page count is 19\n"
          ]
        }
      ]
    },
    {
      "cell_type": "code",
      "metadata": {
        "colab": {
          "base_uri": "https://localhost:8080/"
        },
        "id": "PukuLoRXCiwR",
        "outputId": "65f70e17-e05d-4bfc-968e-fe88d2335e74"
      },
      "source": [
        "bonds_data = pd.DataFrame()\n",
        "for page_num in range(1, page_cnt + 1):\n",
        "    tmp_bonds_df_lst = pd.read_html(bonds_9pct_active_url+str(page_num))\n",
        "    bonds_data = bonds_data.append(tmp_bonds_df_lst[data_magic_no])\n",
        "    print(f'page #{page_num} was scraped')\n",
        "tmp_bonds_df_lst = None # free mem"
      ],
      "execution_count": null,
      "outputs": [
        {
          "output_type": "stream",
          "name": "stdout",
          "text": [
            "page #1 was scraped\n",
            "page #2 was scraped\n",
            "page #3 was scraped\n",
            "page #4 was scraped\n",
            "page #5 was scraped\n",
            "page #6 was scraped\n",
            "page #7 was scraped\n",
            "page #8 was scraped\n",
            "page #9 was scraped\n",
            "page #10 was scraped\n",
            "page #11 was scraped\n",
            "page #12 was scraped\n",
            "page #13 was scraped\n",
            "page #14 was scraped\n",
            "page #15 was scraped\n",
            "page #16 was scraped\n",
            "page #17 was scraped\n",
            "page #18 was scraped\n",
            "page #19 was scraped\n"
          ]
        }
      ]
    },
    {
      "cell_type": "code",
      "metadata": {
        "colab": {
          "base_uri": "https://localhost:8080/"
        },
        "id": "KcKolHNcEjjC",
        "outputId": "b0df2c10-d8aa-4e8b-ebbf-efdd0b56bb95"
      },
      "source": [
        "len(bonds_data)"
      ],
      "execution_count": null,
      "outputs": [
        {
          "output_type": "execute_result",
          "data": {
            "text/plain": [
              "951"
            ]
          },
          "metadata": {},
          "execution_count": 157
        }
      ]
    },
    {
      "cell_type": "code",
      "metadata": {
        "colab": {
          "base_uri": "https://localhost:8080/",
          "height": 175
        },
        "id": "fqAQlw2hEqRu",
        "outputId": "28831f62-c68b-4699-9e7a-72bb1f4a474b"
      },
      "source": [
        "bonds_data.loc[0].head(4)"
      ],
      "execution_count": null,
      "outputs": [
        {
          "output_type": "execute_result",
          "data": {
            "text/html": [
              "<div>\n",
              "<style scoped>\n",
              "    .dataframe tbody tr th:only-of-type {\n",
              "        vertical-align: middle;\n",
              "    }\n",
              "\n",
              "    .dataframe tbody tr th {\n",
              "        vertical-align: top;\n",
              "    }\n",
              "\n",
              "    .dataframe thead th {\n",
              "        text-align: right;\n",
              "    }\n",
              "</style>\n",
              "<table border=\"1\" class=\"dataframe\">\n",
              "  <thead>\n",
              "    <tr style=\"text-align: right;\">\n",
              "      <th></th>\n",
              "      <th>Секторрынка</th>\n",
              "      <th>Облигация, выпуск</th>\n",
              "      <th>Состояниевыпуска</th>\n",
              "      <th>Номеррегистрации</th>\n",
              "      <th>Началоразмещения</th>\n",
              "      <th>Датапогашения</th>\n",
              "      <th>Номинал</th>\n",
              "      <th>Объемэмиссии</th>\n",
              "      <th>Рейтинг</th>\n",
              "    </tr>\n",
              "  </thead>\n",
              "  <tbody>\n",
              "    <tr>\n",
              "      <th>0</th>\n",
              "      <td>ЕвроКорп</td>\n",
              "      <td>Alliance Oil-3-2020-евро</td>\n",
              "      <td>В обращении</td>\n",
              "      <td>XS0925043100</td>\n",
              "      <td>24.04.2013</td>\n",
              "      <td>04.05.2023</td>\n",
              "      <td>1 000 USD</td>\n",
              "      <td>500 000 000</td>\n",
              "      <td>Есть</td>\n",
              "    </tr>\n",
              "    <tr>\n",
              "      <th>0</th>\n",
              "      <td>Корп</td>\n",
              "      <td>Автобан-Финанс-КО-01</td>\n",
              "      <td>В обращении</td>\n",
              "      <td>4CDE-01-82416-H</td>\n",
              "      <td>20.09.2019</td>\n",
              "      <td>16.09.2022</td>\n",
              "      <td>5 000 000 000 RUB</td>\n",
              "      <td>5 000 000 000</td>\n",
              "      <td>Есть</td>\n",
              "    </tr>\n",
              "    <tr>\n",
              "      <th>0</th>\n",
              "      <td>Корп</td>\n",
              "      <td>Банк ВТБ-Т2-3</td>\n",
              "      <td>В обращении</td>\n",
              "      <td>40901000B</td>\n",
              "      <td>03.12.2019</td>\n",
              "      <td>21.05.2030</td>\n",
              "      <td>10 000 000 RUB</td>\n",
              "      <td>20 000 000 000</td>\n",
              "      <td>Нет</td>\n",
              "    </tr>\n",
              "    <tr>\n",
              "      <th>0</th>\n",
              "      <td>Корп</td>\n",
              "      <td>ВсеИнструменты.ру-1-боб</td>\n",
              "      <td>В обращении</td>\n",
              "      <td>4B02-01-00410-R</td>\n",
              "      <td>13.12.2018</td>\n",
              "      <td>09.12.2021</td>\n",
              "      <td>1 000 RUB</td>\n",
              "      <td>700 000 000</td>\n",
              "      <td>Нет</td>\n",
              "    </tr>\n",
              "  </tbody>\n",
              "</table>\n",
              "</div>"
            ],
            "text/plain": [
              "  Секторрынка         Облигация, выпуск  ...    Объемэмиссии Рейтинг\n",
              "0    ЕвроКорп  Alliance Oil-3-2020-евро  ...     500 000 000    Есть\n",
              "0        Корп      Автобан-Финанс-КО-01  ...   5 000 000 000    Есть\n",
              "0        Корп             Банк ВТБ-Т2-3  ...  20 000 000 000     Нет\n",
              "0        Корп   ВсеИнструменты.ру-1-боб  ...     700 000 000     Нет\n",
              "\n",
              "[4 rows x 9 columns]"
            ]
          },
          "metadata": {},
          "execution_count": 163
        }
      ]
    },
    {
      "cell_type": "code",
      "metadata": {
        "colab": {
          "base_uri": "https://localhost:8080/",
          "height": 332
        },
        "id": "9mV_GXbMETMz",
        "outputId": "3447bf61-7437-4a8c-e832-a5d100ea68a7"
      },
      "source": [
        "bonds_data.head(9)"
      ],
      "execution_count": null,
      "outputs": [
        {
          "output_type": "execute_result",
          "data": {
            "text/html": [
              "<div>\n",
              "<style scoped>\n",
              "    .dataframe tbody tr th:only-of-type {\n",
              "        vertical-align: middle;\n",
              "    }\n",
              "\n",
              "    .dataframe tbody tr th {\n",
              "        vertical-align: top;\n",
              "    }\n",
              "\n",
              "    .dataframe thead th {\n",
              "        text-align: right;\n",
              "    }\n",
              "</style>\n",
              "<table border=\"1\" class=\"dataframe\">\n",
              "  <thead>\n",
              "    <tr style=\"text-align: right;\">\n",
              "      <th></th>\n",
              "      <th>Секторрынка</th>\n",
              "      <th>Облигация, выпуск</th>\n",
              "      <th>Состояниевыпуска</th>\n",
              "      <th>Номеррегистрации</th>\n",
              "      <th>Началоразмещения</th>\n",
              "      <th>Датапогашения</th>\n",
              "      <th>Номинал</th>\n",
              "      <th>Объемэмиссии</th>\n",
              "      <th>Рейтинг</th>\n",
              "    </tr>\n",
              "  </thead>\n",
              "  <tbody>\n",
              "    <tr>\n",
              "      <th>0</th>\n",
              "      <td>ЕвроКорп</td>\n",
              "      <td>Alliance Oil-3-2020-евро</td>\n",
              "      <td>В обращении</td>\n",
              "      <td>XS0925043100</td>\n",
              "      <td>24.04.2013</td>\n",
              "      <td>04.05.2023</td>\n",
              "      <td>1 000 USD</td>\n",
              "      <td>500 000 000</td>\n",
              "      <td>Есть</td>\n",
              "    </tr>\n",
              "    <tr>\n",
              "      <th>1</th>\n",
              "      <td>ЕвроКорп</td>\n",
              "      <td>Barclays Bank-2027-евро</td>\n",
              "      <td>В обращении</td>\n",
              "      <td>XS0833618910</td>\n",
              "      <td>21.11.2012</td>\n",
              "      <td>03.02.2027</td>\n",
              "      <td>120 000 000 RUB</td>\n",
              "      <td>120 000 000</td>\n",
              "      <td>Нет</td>\n",
              "    </tr>\n",
              "    <tr>\n",
              "      <th>2</th>\n",
              "      <td>ЕвроКорп</td>\n",
              "      <td>BCS Structured-10-2025-ев</td>\n",
              "      <td>В обращении</td>\n",
              "      <td>XS2143253495</td>\n",
              "      <td>24.03.2020</td>\n",
              "      <td>30.06.2025</td>\n",
              "      <td>100 000 RUB</td>\n",
              "      <td>600 000 000</td>\n",
              "      <td>Нет</td>\n",
              "    </tr>\n",
              "    <tr>\n",
              "      <th>3</th>\n",
              "      <td>ЕвроКорп</td>\n",
              "      <td>BCS Structured-12-2023-ев</td>\n",
              "      <td>В обращении</td>\n",
              "      <td>XS1917700723</td>\n",
              "      <td>29.11.2018</td>\n",
              "      <td>19.11.2023</td>\n",
              "      <td>1 250 USD</td>\n",
              "      <td>10 000 000</td>\n",
              "      <td>Нет</td>\n",
              "    </tr>\n",
              "    <tr>\n",
              "      <th>4</th>\n",
              "      <td>ЕвроКорп</td>\n",
              "      <td>BCS Structured-12-2026-ев</td>\n",
              "      <td>В обращении</td>\n",
              "      <td>XS2369557371</td>\n",
              "      <td>04.08.2021</td>\n",
              "      <td>08.12.2026</td>\n",
              "      <td>1 250 USD</td>\n",
              "      <td>10 000 000</td>\n",
              "      <td>Нет</td>\n",
              "    </tr>\n",
              "    <tr>\n",
              "      <th>5</th>\n",
              "      <td>ЕвроКорп</td>\n",
              "      <td>BCS Structured-13-2023-ев</td>\n",
              "      <td>В обращении</td>\n",
              "      <td>XS1923604984</td>\n",
              "      <td>17.12.2018</td>\n",
              "      <td>11.12.2023</td>\n",
              "      <td>1 250 USD</td>\n",
              "      <td>10 000 000</td>\n",
              "      <td>Нет</td>\n",
              "    </tr>\n",
              "    <tr>\n",
              "      <th>6</th>\n",
              "      <td>ЕвроКорп</td>\n",
              "      <td>BCS Structured-15-2023-ев</td>\n",
              "      <td>В обращении</td>\n",
              "      <td>XS1943597994</td>\n",
              "      <td>01.02.2019</td>\n",
              "      <td>20.12.2023</td>\n",
              "      <td>100 000 RUB</td>\n",
              "      <td>500 000 000</td>\n",
              "      <td>Нет</td>\n",
              "    </tr>\n",
              "    <tr>\n",
              "      <th>7</th>\n",
              "      <td>ЕвроКорп</td>\n",
              "      <td>BCS Structured-16-2024-ев</td>\n",
              "      <td>В обращении</td>\n",
              "      <td>XS2028880115</td>\n",
              "      <td>17.07.2019</td>\n",
              "      <td>30.06.2024</td>\n",
              "      <td>100 000 RUB</td>\n",
              "      <td>600 000 000</td>\n",
              "      <td>Нет</td>\n",
              "    </tr>\n",
              "    <tr>\n",
              "      <th>8</th>\n",
              "      <td>ЕвроКорп</td>\n",
              "      <td>BCS Structured-20-2023-ев</td>\n",
              "      <td>В обращении</td>\n",
              "      <td>XS2104313221</td>\n",
              "      <td>17.01.2020</td>\n",
              "      <td>17.05.2023</td>\n",
              "      <td>1 250 USD</td>\n",
              "      <td>2 000 000</td>\n",
              "      <td>Нет</td>\n",
              "    </tr>\n",
              "  </tbody>\n",
              "</table>\n",
              "</div>"
            ],
            "text/plain": [
              "  Секторрынка          Облигация, выпуск  ... Объемэмиссии Рейтинг\n",
              "0    ЕвроКорп   Alliance Oil-3-2020-евро  ...  500 000 000    Есть\n",
              "1    ЕвроКорп    Barclays Bank-2027-евро  ...  120 000 000     Нет\n",
              "2    ЕвроКорп  BCS Structured-10-2025-ев  ...  600 000 000     Нет\n",
              "3    ЕвроКорп  BCS Structured-12-2023-ев  ...   10 000 000     Нет\n",
              "4    ЕвроКорп  BCS Structured-12-2026-ев  ...   10 000 000     Нет\n",
              "5    ЕвроКорп  BCS Structured-13-2023-ев  ...   10 000 000     Нет\n",
              "6    ЕвроКорп  BCS Structured-15-2023-ев  ...  500 000 000     Нет\n",
              "7    ЕвроКорп  BCS Structured-16-2024-ев  ...  600 000 000     Нет\n",
              "8    ЕвроКорп  BCS Structured-20-2023-ев  ...    2 000 000     Нет\n",
              "\n",
              "[9 rows x 9 columns]"
            ]
          },
          "metadata": {},
          "execution_count": 161
        }
      ]
    },
    {
      "cell_type": "code",
      "metadata": {
        "colab": {
          "base_uri": "https://localhost:8080/",
          "height": 332
        },
        "id": "MtErjpXsEVkV",
        "outputId": "172f5ede-6fe4-47e1-ee2b-e125dcddd023"
      },
      "source": [
        "bonds_data.tail(9)"
      ],
      "execution_count": null,
      "outputs": [
        {
          "output_type": "execute_result",
          "data": {
            "text/html": [
              "<div>\n",
              "<style scoped>\n",
              "    .dataframe tbody tr th:only-of-type {\n",
              "        vertical-align: middle;\n",
              "    }\n",
              "\n",
              "    .dataframe tbody tr th {\n",
              "        vertical-align: top;\n",
              "    }\n",
              "\n",
              "    .dataframe thead th {\n",
              "        text-align: right;\n",
              "    }\n",
              "</style>\n",
              "<table border=\"1\" class=\"dataframe\">\n",
              "  <thead>\n",
              "    <tr style=\"text-align: right;\">\n",
              "      <th></th>\n",
              "      <th>Секторрынка</th>\n",
              "      <th>Облигация, выпуск</th>\n",
              "      <th>Состояниевыпуска</th>\n",
              "      <th>Номеррегистрации</th>\n",
              "      <th>Началоразмещения</th>\n",
              "      <th>Датапогашения</th>\n",
              "      <th>Номинал</th>\n",
              "      <th>Объемэмиссии</th>\n",
              "      <th>Рейтинг</th>\n",
              "    </tr>\n",
              "  </thead>\n",
              "  <tbody>\n",
              "    <tr>\n",
              "      <th>33</th>\n",
              "      <td>Корп</td>\n",
              "      <td>ЮниМетрикс-01-об</td>\n",
              "      <td>В обращении</td>\n",
              "      <td>4-01-00402-R</td>\n",
              "      <td>09.09.2019</td>\n",
              "      <td>24.08.2022</td>\n",
              "      <td>1 000 RUB</td>\n",
              "      <td>400 000 000</td>\n",
              "      <td>Нет</td>\n",
              "    </tr>\n",
              "    <tr>\n",
              "      <th>34</th>\n",
              "      <td>Корп</td>\n",
              "      <td>ЮниСервис Капитал-02К-об</td>\n",
              "      <td>В обращении</td>\n",
              "      <td>4-02-00534-R</td>\n",
              "      <td>04.03.2021</td>\n",
              "      <td>21.01.2029</td>\n",
              "      <td>10 000 RUB</td>\n",
              "      <td>90 000 000</td>\n",
              "      <td>Нет</td>\n",
              "    </tr>\n",
              "    <tr>\n",
              "      <th>35</th>\n",
              "      <td>Муни</td>\n",
              "      <td>ЯНАО-35002-об</td>\n",
              "      <td>В обращении</td>\n",
              "      <td>RU35002YML0</td>\n",
              "      <td>07.12.2016</td>\n",
              "      <td>06.12.2023</td>\n",
              "      <td>1 000 RUB</td>\n",
              "      <td>20 000 000 000</td>\n",
              "      <td>Есть</td>\n",
              "    </tr>\n",
              "    <tr>\n",
              "      <th>36</th>\n",
              "      <td>Муни</td>\n",
              "      <td>ЯНАО-35003-об</td>\n",
              "      <td>В обращении</td>\n",
              "      <td>RU35003YML0</td>\n",
              "      <td>18.10.2017</td>\n",
              "      <td>18.10.2022</td>\n",
              "      <td>1 000 RUB</td>\n",
              "      <td>1 000 000 000</td>\n",
              "      <td>Есть</td>\n",
              "    </tr>\n",
              "    <tr>\n",
              "      <th>37</th>\n",
              "      <td>Муни</td>\n",
              "      <td>Ярославская Обл-35014-об</td>\n",
              "      <td>В обращении</td>\n",
              "      <td>RU35014YRS0</td>\n",
              "      <td>27.05.2016</td>\n",
              "      <td>19.05.2023</td>\n",
              "      <td>1 000 RUB</td>\n",
              "      <td>4 500 000 000</td>\n",
              "      <td>Есть</td>\n",
              "    </tr>\n",
              "    <tr>\n",
              "      <th>38</th>\n",
              "      <td>Муни</td>\n",
              "      <td>Ярославская Обл-35015-об</td>\n",
              "      <td>В обращении</td>\n",
              "      <td>RU35015YRS0</td>\n",
              "      <td>01.06.2017</td>\n",
              "      <td>20.04.2027</td>\n",
              "      <td>1 000 RUB</td>\n",
              "      <td>10 000 000 000</td>\n",
              "      <td>Есть</td>\n",
              "    </tr>\n",
              "    <tr>\n",
              "      <th>39</th>\n",
              "      <td>Корп</td>\n",
              "      <td>ЯТЭК-001Р-01</td>\n",
              "      <td>В обращении</td>\n",
              "      <td>4B02-01-20510-F-001P</td>\n",
              "      <td>03.11.2020</td>\n",
              "      <td>31.10.2023</td>\n",
              "      <td>1 000 RUB</td>\n",
              "      <td>4 000 000 000</td>\n",
              "      <td>Есть</td>\n",
              "    </tr>\n",
              "    <tr>\n",
              "      <th>40</th>\n",
              "      <td>Корп</td>\n",
              "      <td>ЯТЭК-001Р-02</td>\n",
              "      <td>В обращении</td>\n",
              "      <td>4B02-02-20510-F-001P</td>\n",
              "      <td>12.04.2021</td>\n",
              "      <td>07.04.2025</td>\n",
              "      <td>1 000 RUB</td>\n",
              "      <td>5 000 000 000</td>\n",
              "      <td>Есть</td>\n",
              "    </tr>\n",
              "    <tr>\n",
              "      <th>41</th>\n",
              "      <td>NaN</td>\n",
              "      <td>NaN</td>\n",
              "      <td>NaN</td>\n",
              "      <td>NaN</td>\n",
              "      <td>NaN</td>\n",
              "      <td>NaN</td>\n",
              "      <td>NaN</td>\n",
              "      <td>NaN</td>\n",
              "      <td>NaN</td>\n",
              "    </tr>\n",
              "  </tbody>\n",
              "</table>\n",
              "</div>"
            ],
            "text/plain": [
              "   Секторрынка         Облигация, выпуск  ...    Объемэмиссии Рейтинг\n",
              "33        Корп          ЮниМетрикс-01-об  ...     400 000 000     Нет\n",
              "34        Корп  ЮниСервис Капитал-02К-об  ...      90 000 000     Нет\n",
              "35        Муни             ЯНАО-35002-об  ...  20 000 000 000    Есть\n",
              "36        Муни             ЯНАО-35003-об  ...   1 000 000 000    Есть\n",
              "37        Муни  Ярославская Обл-35014-об  ...   4 500 000 000    Есть\n",
              "38        Муни  Ярославская Обл-35015-об  ...  10 000 000 000    Есть\n",
              "39        Корп              ЯТЭК-001Р-01  ...   4 000 000 000    Есть\n",
              "40        Корп              ЯТЭК-001Р-02  ...   5 000 000 000    Есть\n",
              "41         NaN                       NaN  ...             NaN     NaN\n",
              "\n",
              "[9 rows x 9 columns]"
            ]
          },
          "metadata": {},
          "execution_count": 156
        }
      ]
    }
  ]
}